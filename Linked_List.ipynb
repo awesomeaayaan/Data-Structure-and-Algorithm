{
 "cells": [
  {
   "cell_type": "code",
   "execution_count": 1,
   "id": "b1bd815c",
   "metadata": {},
   "outputs": [],
   "source": [
    "class Node:\n",
    "    def __init__(self,value):\n",
    "        self.data = value\n",
    "        self.next = None"
   ]
  },
  {
   "cell_type": "code",
   "execution_count": 10,
   "id": "08208ec1",
   "metadata": {},
   "outputs": [],
   "source": [
    "a = Node(1)\n",
    "b = Node(2)\n",
    "c = Node(3)\n"
   ]
  },
  {
   "cell_type": "code",
   "execution_count": 11,
   "id": "c8e478c5",
   "metadata": {},
   "outputs": [
    {
     "name": "stdout",
     "output_type": "stream",
     "text": [
      "3\n",
      "None\n"
     ]
    }
   ],
   "source": [
    "print(a.data)\n",
    "print(a.next)"
   ]
  },
  {
   "cell_type": "code",
   "execution_count": 12,
   "id": "e9de835d",
   "metadata": {},
   "outputs": [],
   "source": [
    "a.next = b\n",
    "b.next = c"
   ]
  },
  {
   "cell_type": "code",
   "execution_count": 13,
   "id": "26dbaf9b",
   "metadata": {},
   "outputs": [
    {
     "name": "stdout",
     "output_type": "stream",
     "text": [
      "<__main__.Node object at 0x00000213066FCF40>\n"
     ]
    }
   ],
   "source": [
    "print(a.next)"
   ]
  },
  {
   "cell_type": "code",
   "execution_count": 14,
   "id": "56f086bd",
   "metadata": {},
   "outputs": [
    {
     "data": {
      "text/plain": [
       "2280735625024"
      ]
     },
     "execution_count": 14,
     "metadata": {},
     "output_type": "execute_result"
    }
   ],
   "source": [
    "int(0x00000213066FCF40)"
   ]
  },
  {
   "cell_type": "code",
   "execution_count": 4,
   "id": "7e7fe10f",
   "metadata": {},
   "outputs": [],
   "source": [
    "class Node:\n",
    "    def __init__(self,value):\n",
    "        self.data = value\n",
    "        self.next = None"
   ]
  },
  {
   "cell_type": "code",
   "execution_count": 5,
   "id": "7d1738a6",
   "metadata": {},
   "outputs": [],
   "source": [
    "class LinkedList: \n",
    "    def __init__(self):\n",
    "        #empty linked list\n",
    "        self.head = None\n",
    "        #number of nodes in the linked list\n",
    "        self.n = 0 # for counting\n",
    "        \n",
    "    def __len__(self):\n",
    "        return self.n\n",
    "    \n",
    "    def insert_head(self,value):\n",
    "        \n",
    "        #new node\n",
    "        new_node = Node(value)\n",
    "        #create connection\n",
    "        new_node.next = self.head\n",
    "        \n",
    "        #reassign head\n",
    "        self.head = new_node\n",
    "        #increment n\n",
    "        self.n = self.n + 1;\n",
    "        \n",
    "    def __str__(self):\n",
    "        current = self.head\n",
    "        result = ''\n",
    "        while current != None:\n",
    "            result = result + str(current.data) + '->'\n",
    "            current = current.next\n",
    "        return result[:-2]\n",
    "    \n",
    "    def append(self,value):\n",
    "\n",
    "        new_node = Node(value)\n",
    "\n",
    "        if self.head == None:\n",
    "          # empty\n",
    "          self.head = new_node\n",
    "          self.n = self.n + 1\n",
    "          return\n",
    "\n",
    "        current = self.head\n",
    "\n",
    "        while current.next != None:\n",
    "          current = current.next\n",
    "\n",
    "        # you are at the last node\n",
    "        current.next = new_node\n",
    "        self.n = self.n + 1\n",
    "    def insert_after(self,after,value):\n",
    "        new_node = Node(value)\n",
    "        \n",
    "        current = self.head\n",
    "        \n",
    "        while current!= None:\n",
    "            if current.data == after:\n",
    "                break\n",
    "            current = current.next\n",
    "        #case 1 break -> item milyo vaney -> current -> not None\n",
    "        if current != None:\n",
    "            #logic\n",
    "            new_node.next = current.next\n",
    "            current.next = new_node\n",
    "            self.n = self.n + 1\n",
    "            \n",
    "        else:\n",
    "            return 'Item not found'\n",
    "        \n",
    "    def clear(self):\n",
    "        self.head = None\n",
    "        self.n = 0\n",
    "        \n",
    "    def delete_head(self):\n",
    "        if self.head == None:\n",
    "            #empty\n",
    "            return 'Empty linked list'\n",
    "        self.head = self.head.next\n",
    "        self.n = self.n - 1\n",
    "        \n",
    "    def pop(self):\n",
    "        if self.head == None:\n",
    "            #empty\n",
    "            return 'Empty LL'\n",
    "        current = self.head\n",
    "        # check whether the linked list contain one item\n",
    "        if current.next == None:\n",
    "           #head is there and have to delete the head\n",
    "            return self.delete_head()\n",
    "        \n",
    "        while current.next.next != None:\n",
    "            current = current.next\n",
    "            \n",
    "        # curr-> 2nd last node\n",
    "        current.next = None\n",
    "        self.n = self.n - 1\n",
    "            \n",
    "        \n",
    "    def remove(self,value):\n",
    "        if self.head == None:\n",
    "            return 'Empty LL'\n",
    "        \n",
    "        #if you want to remove the head node\n",
    "        if self.head.data == value:\n",
    "            return self.delete_head()\n",
    "        \n",
    "        current = self.head\n",
    "        \n",
    "        while current.next != None:\n",
    "            if current.next.data == value:\n",
    "                break\n",
    "            current = current.next\n",
    "            \n",
    "        #two cases occur here \n",
    "        #1. item found\n",
    "        #2. item not found\n",
    "        if current.next == None:\n",
    "            #item not found\n",
    "            return 'Not Found'\n",
    "        else:\n",
    "            current.next = current.next.next\n",
    "            \n",
    "            \n",
    "    def search(self,item):\n",
    "        current = self.head\n",
    "        pos = 0\n",
    "        \n",
    "        while current != None:\n",
    "            if current.data == item:\n",
    "                return pos\n",
    "            current = current.next\n",
    "            pos = pos + 1\n",
    "            \n",
    "        return 'Not Found'\n",
    "    \n",
    "    def __getitem__(self,index):\n",
    "        current = self.head\n",
    "        pos = 0\n",
    "        \n",
    "        while current != None:\n",
    "            if pos == index:\n",
    "                return current.data\n",
    "            current = current.next\n",
    "            pos = pos + 1\n",
    "            \n",
    "        return 'index error'\n",
    "            \n",
    "        \n",
    "            \n",
    "            "
   ]
  },
  {
   "cell_type": "code",
   "execution_count": 6,
   "id": "5e8bee06",
   "metadata": {},
   "outputs": [],
   "source": [
    "l = LinkedList()"
   ]
  },
  {
   "cell_type": "code",
   "execution_count": 7,
   "id": "1df5b6af",
   "metadata": {},
   "outputs": [],
   "source": [
    "l.insert_head(1)\n",
    "l.insert_head(2)\n",
    "l.insert_head(3)\n",
    "l.insert_head(4)"
   ]
  },
  {
   "cell_type": "code",
   "execution_count": 8,
   "id": "ed4062da",
   "metadata": {},
   "outputs": [
    {
     "data": {
      "text/plain": [
       "4"
      ]
     },
     "execution_count": 8,
     "metadata": {},
     "output_type": "execute_result"
    }
   ],
   "source": [
    "len(l)"
   ]
  },
  {
   "cell_type": "code",
   "execution_count": 9,
   "id": "bd785430",
   "metadata": {},
   "outputs": [
    {
     "data": {
      "text/plain": [
       "2"
      ]
     },
     "execution_count": 9,
     "metadata": {},
     "output_type": "execute_result"
    }
   ],
   "source": [
    "l[2]"
   ]
  },
  {
   "cell_type": "code",
   "execution_count": 286,
   "id": "680e1758",
   "metadata": {},
   "outputs": [
    {
     "name": "stdout",
     "output_type": "stream",
     "text": [
      "4->3->2->1\n"
     ]
    }
   ],
   "source": [
    "print(l)"
   ]
  },
  {
   "cell_type": "code",
   "execution_count": 282,
   "id": "8b43ec86",
   "metadata": {},
   "outputs": [
    {
     "data": {
      "text/plain": [
       "3"
      ]
     },
     "execution_count": 282,
     "metadata": {},
     "output_type": "execute_result"
    }
   ],
   "source": [
    "l.search(1)"
   ]
  },
  {
   "cell_type": "code",
   "execution_count": 276,
   "id": "bfe980c4",
   "metadata": {},
   "outputs": [
    {
     "data": {
      "text/plain": [
       "'Empty LL'"
      ]
     },
     "execution_count": 276,
     "metadata": {},
     "output_type": "execute_result"
    }
   ],
   "source": [
    "l.remove(4)"
   ]
  },
  {
   "cell_type": "code",
   "execution_count": null,
   "id": "99dbc3fd",
   "metadata": {},
   "outputs": [],
   "source": []
  },
  {
   "cell_type": "code",
   "execution_count": 275,
   "id": "0bce1c94",
   "metadata": {},
   "outputs": [
    {
     "name": "stdout",
     "output_type": "stream",
     "text": [
      "\n"
     ]
    }
   ],
   "source": [
    "print(l)"
   ]
  },
  {
   "cell_type": "code",
   "execution_count": 102,
   "id": "5197c854",
   "metadata": {},
   "outputs": [],
   "source": [
    "l.append(5)"
   ]
  },
  {
   "cell_type": "code",
   "execution_count": 103,
   "id": "748cdcc1",
   "metadata": {},
   "outputs": [],
   "source": [
    "l.insert_after(5,300)"
   ]
  },
  {
   "cell_type": "code",
   "execution_count": 168,
   "id": "f431fe56",
   "metadata": {},
   "outputs": [
    {
     "name": "stdout",
     "output_type": "stream",
     "text": [
      "\n"
     ]
    }
   ],
   "source": [
    " print(l)"
   ]
  },
  {
   "cell_type": "code",
   "execution_count": 128,
   "id": "f18aae58",
   "metadata": {},
   "outputs": [],
   "source": [
    "l.clear()"
   ]
  },
  {
   "cell_type": "code",
   "execution_count": 129,
   "id": "e0b811a3",
   "metadata": {},
   "outputs": [
    {
     "data": {
      "text/plain": [
       "'Empty list'"
      ]
     },
     "execution_count": 129,
     "metadata": {},
     "output_type": "execute_result"
    }
   ],
   "source": [
    "l.delete_head()"
   ]
  },
  {
   "cell_type": "code",
   "execution_count": 169,
   "id": "c4ca4d4c",
   "metadata": {},
   "outputs": [
    {
     "data": {
      "text/plain": [
       "'Empty LL'"
      ]
     },
     "execution_count": 169,
     "metadata": {},
     "output_type": "execute_result"
    }
   ],
   "source": [
    "l.pop()"
   ]
  },
  {
   "cell_type": "code",
   "execution_count": 295,
   "id": "665e608e",
   "metadata": {},
   "outputs": [],
   "source": [
    "l.remove(4)"
   ]
  },
  {
   "cell_type": "code",
   "execution_count": null,
   "id": "300cc3d2",
   "metadata": {},
   "outputs": [],
   "source": []
  }
 ],
 "metadata": {
  "kernelspec": {
   "display_name": "Python 3 (ipykernel)",
   "language": "python",
   "name": "python3"
  },
  "language_info": {
   "codemirror_mode": {
    "name": "ipython",
    "version": 3
   },
   "file_extension": ".py",
   "mimetype": "text/x-python",
   "name": "python",
   "nbconvert_exporter": "python",
   "pygments_lexer": "ipython3",
   "version": "3.9.13"
  }
 },
 "nbformat": 4,
 "nbformat_minor": 5
}
